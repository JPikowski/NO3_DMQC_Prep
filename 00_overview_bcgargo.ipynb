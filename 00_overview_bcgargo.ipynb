{
 "cells": [
  {
   "cell_type": "markdown",
   "id": "9a5dbe2b-7144-405b-b3b3-76b2f9b2d213",
   "metadata": {
    "tags": []
   },
   "source": [
    "# NOAA Lapenta Internship Project \n",
    "\n",
    "**My Project:** Extension of a Python package for quality control of Argo float data (OAR)\n",
    "\n",
    "**Project Description** The goal of this project is to extend the capabilities of an existing Python package for delayed mode quality control of Argo float data. \n",
    "* It currently handles only oxygen, the goal is to handle at least one other biogeochemical variable, e.g., nitrate. (The full set also includes pH, chlorophyll, and backscatter.) \n",
    "* New functions and notebooks to demonstrate the new features need to be developed.\n",
    "\n",
    "**Expected Outcome** The expected outcome is an expanded Python package with the capability to perform delayed mode quality control on oxygen and at least one other biogeochemical variable.\n",
    "\n",
    "**Duties and Responsibilities** The intern will act as the primary software developer. This will include design, implementation, debugging, testing, and documenting of the code.\n",
    "\n",
    "## Back Ground Information \n",
    "\n",
    "Link to BCG Argo Website: https://biogeochemical-argo.org/index.php"
   ]
  },
  {
   "cell_type": "markdown",
   "id": "326474ef-fc8e-4d58-8d41-3a5d84a8c212",
   "metadata": {},
   "source": [
    "## Setting up the Github\n",
    "\n",
    "Link to reference Github: https://github.com/ArgoCanada/bgcArgoDMQC\n",
    "\n",
    "**Vocab**\n",
    "* DMQC - Delayed Mode Quality Control"
   ]
  },
  {
   "cell_type": "markdown",
   "id": "c854700b-e2f9-4de8-9642-f35971f69f0e",
   "metadata": {},
   "source": [
    "Cloning the repository locally "
   ]
  },
  {
   "cell_type": "code",
   "execution_count": 3,
   "id": "8ad281a8-e4fb-440d-b375-c9a729277568",
   "metadata": {},
   "outputs": [
    {
     "name": "stderr",
     "output_type": "stream",
     "text": [
      "Cloning into 'bgcArgoDMQC'...\n",
      "Host key verification failed.\n",
      "fatal: Could not read from remote repository.\n",
      "\n",
      "Please make sure you have the correct access rights\n",
      "and the repository exists.\n"
     ]
    }
   ],
   "source": [
    "!git clone git@github.com:hfrenzel-noaa/bgcArgoDMQC.git"
   ]
  },
  {
   "cell_type": "markdown",
   "id": "5b344ef5-e8c4-4126-a43a-cd3e28e57e93",
   "metadata": {},
   "source": [
    "Change directory to the cloned repository"
   ]
  },
  {
   "cell_type": "code",
   "execution_count": null,
   "id": "aeededb6-d27a-4870-bd12-1085b91af814",
   "metadata": {},
   "outputs": [],
   "source": [
    "%cd bgcArgoDMQC"
   ]
  },
  {
   "cell_type": "markdown",
   "id": "5e5b4720-f695-4fec-b1a3-4af86d9d8e29",
   "metadata": {},
   "source": [
    "Installing everything in that folder"
   ]
  },
  {
   "cell_type": "code",
   "execution_count": null,
   "id": "2920af6a-3399-4860-895a-557aed23a8c3",
   "metadata": {},
   "outputs": [],
   "source": [
    "!pip install ."
   ]
  }
 ],
 "metadata": {
  "kernelspec": {
   "display_name": "Python 3 (ipykernel)",
   "language": "python",
   "name": "python3"
  },
  "language_info": {
   "codemirror_mode": {
    "name": "ipython",
    "version": 3
   },
   "file_extension": ".py",
   "mimetype": "text/x-python",
   "name": "python",
   "nbconvert_exporter": "python",
   "pygments_lexer": "ipython3",
   "version": "3.9.13"
  }
 },
 "nbformat": 4,
 "nbformat_minor": 5
}
